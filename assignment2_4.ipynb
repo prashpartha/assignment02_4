{
 "cells": [
  {
   "cell_type": "markdown",
   "metadata": {},
   "source": [
    "Write a Python Program(with class concepts) to find the area of the triangle using the\n",
    "below formula.\n",
    "area = (s*(s-a)*(s-b)*(s-c)) ** 0.5\n",
    "Function to take the length of the sides of triangle from user should be defined in the\n",
    "parent class and function to calculate the area should be defined in subclass."
   ]
  },
  {
   "cell_type": "code",
   "execution_count": 2,
   "metadata": {},
   "outputs": [
    {
     "name": "stdout",
     "output_type": "stream",
     "text": [
      "1.5\n"
     ]
    }
   ],
   "source": [
    "class Triangle():\n",
    "    _a = 0\n",
    "    _b = 0\n",
    "    _c = 0\n",
    "    def sides(self, a, b, c):\n",
    "        self._a = a\n",
    "        self._b = b\n",
    "        self._c = c\n",
    "    def __str__(self):\n",
    "        return \"Triangle sides are %d %d %d\" % (self._a, self._b, self._c)\n",
    "\n",
    "class TriangleUtils(Triangle):\n",
    "    def calculateArea(self):\n",
    "        s = (self._a + self._b + self._c)/2\n",
    "        return (s*(s-self._a)*(s-self._b)*(s-self._c))*0.5\n",
    "    \n",
    "t = TriangleUtils()\n",
    "t.sides(2,2,2)\n",
    "print(t.calculateArea())"
   ]
  },
  {
   "cell_type": "markdown",
   "metadata": {},
   "source": [
    "Problem Statement 2:\n",
    "Write a function filter_long_words() that takes a list of words and an integer n and returns the list of words that are longer than n."
   ]
  },
  {
   "cell_type": "code",
   "execution_count": 6,
   "metadata": {},
   "outputs": [
    {
     "name": "stdout",
     "output_type": "stream",
     "text": [
      "['ghsd']\n"
     ]
    }
   ],
   "source": [
    "def filter_long_words(word_list, n):\n",
    "             return list(filter(lambda x: len(x) > n, word_list))\n",
    "word_list = [\"abc\",\"def\",\"ghsd\"]\n",
    "long_words = filter_long_words(word_list, 3)\n",
    "print(long_words)"
   ]
  }
 ],
 "metadata": {
  "kernelspec": {
   "display_name": "Python 3",
   "language": "python",
   "name": "python3"
  },
  "language_info": {
   "codemirror_mode": {
    "name": "ipython",
    "version": 3
   },
   "file_extension": ".py",
   "mimetype": "text/x-python",
   "name": "python",
   "nbconvert_exporter": "python",
   "pygments_lexer": "ipython3",
   "version": "3.6.3"
  }
 },
 "nbformat": 4,
 "nbformat_minor": 2
}
